{
 "cells": [
  {
   "cell_type": "markdown",
   "metadata": {},
   "source": [
    "# Лабораторная работа №1 \n",
    "Севрук Елизавета, гр.853504"
   ]
  },
  {
   "cell_type": "code",
   "execution_count": 135,
   "metadata": {},
   "outputs": [],
   "source": [
    "import numpy as np\n",
    "import math\n",
    "import random\n",
    "import matplotlib.pyplot as plt"
   ]
  },
  {
   "cell_type": "markdown",
   "metadata": {},
   "source": [
    "# Метод середины квадрата"
   ]
  },
  {
   "cell_type": "markdown",
   "metadata": {},
   "source": [
    "\n",
    "    Функция генерирует n чисел методом середины квадратов, с заданной разрядностью capacity.\n",
    "    Возвращает сгенерированный массив, преобразованных к интервалу от 0 до 1.\n"
   ]
  },
  {
   "cell_type": "code",
   "execution_count": 136,
   "metadata": {},
   "outputs": [],
   "source": [
    "def mid_square_method(start_number, n):\n",
    "    z = []\n",
    "    z.append(start_number)\n",
    "    capacity = len(str(start_number))\n",
    "    i=1\n",
    "    \n",
    "    while i < n:\n",
    "        square = z[i - 1] ** 2\n",
    "        square_len = len(str(square))\n",
    "        str_next_z = str(square) if square_len == 2 * capacity else '0' * (2 * capacity - square_len) + str(square)\n",
    "        #print(f'Step {i}: str_next_z = {str_next_z}')\n",
    "        #z.append(int(str_next_z[int(k / 2):-int(k / 2)]))\n",
    "        z.append(int(str_next_z[int(capacity/2):int((capacity/ 2) * 3)]))\n",
    "        #print(f'z: {z}')\n",
    "        i += 1\n",
    "    del z[0]    \n",
    "    return np.array(z) / 10 ** capacity\n",
    "    "
   ]
  },
  {
   "cell_type": "markdown",
   "metadata": {},
   "source": [
    "    Несмотря на видимую случайность чисел, генерируемых алгоритмом, ему свойственны недостатки. В самом деле, если в последовательности когда-нибудь появится число 0,0000, то все следующие за ним числа будут также равны 0,0000. Таким образом, многое зависит от начального выбора k и x_о."
   ]
  },
  {
   "cell_type": "code",
   "execution_count": 137,
   "metadata": {},
   "outputs": [
    {
     "name": "stdout",
     "output_type": "stream",
     "text": [
      "[0.976  0.2576 0.6357 0.4114 0.9249 0.544  0.5936 0.236  0.5696]\n"
     ]
    }
   ],
   "source": [
    "#тестовый пример\n",
    "print(mid_square_method(1994, 10))"
   ]
  },
  {
   "cell_type": "markdown",
   "metadata": {},
   "source": [
    "# Мультипликативный конгруэнтный метод"
   ]
  },
  {
   "cell_type": "markdown",
   "metadata": {},
   "source": [
    "    Функция генерирует n чисел мультипликативным конгруетным методом, с заданными входными параметрами m и k.\n",
    "    Возвращает сгенерированный массив.\n",
    "    Ai = (kAi -1) mod m\n",
    "    zi =Ai /m,"
   ]
  },
  {
   "cell_type": "code",
   "execution_count": 138,
   "metadata": {},
   "outputs": [],
   "source": [
    "def multiplicative_congruential_method(start_number, n, k=99999, m=2**20):\n",
    "    A = []\n",
    "    A.append(start_number)\n",
    "    i = 1\n",
    "    while i < n:\n",
    "        A.append((k * A[i - 1]) % m) #получается чимло от 0 до m - 1\n",
    "        i += 1\n",
    "    del(A[0])    \n",
    "    return np.array(A) / m"
   ]
  },
  {
   "cell_type": "code",
   "execution_count": 139,
   "metadata": {},
   "outputs": [
    {
     "name": "stdout",
     "output_type": "stream",
     "text": [
      "[0.72201645 0.76818776 0.90832567 0.20442677]\n"
     ]
    }
   ],
   "source": [
    "#тестовый пример\n",
    "print(multiplicative_congruential_method(1994,5,  k =  66666666,  m =  33554432))"
   ]
  },
  {
   "cell_type": "markdown",
   "metadata": {},
   "source": [
    "# Тестирование равномерности "
   ]
  },
  {
   "cell_type": "markdown",
   "metadata": {},
   "source": [
    "#### Функция для тестирования равномерности"
   ]
  },
  {
   "cell_type": "code",
   "execution_count": 140,
   "metadata": {},
   "outputs": [],
   "source": [
    "def equability_testing(z, n, K):\n",
    "    k = [i / K for i in range(K+1)] # K - кол-во отрезков\n",
    "    p = []\n",
    "    count = 0 \n",
    "    for i in range(K):\n",
    "        for j in z:\n",
    "            if k[i] <= j < k[i + 1]: #если наше число массава z лежит в отрезке от k[i] до k[i + 1], то counter += 1 \n",
    "                count += 1\n",
    "        p.append(count / n)\n",
    "        count = 0\n",
    "    del k[-1]\n",
    "    return p, k"
   ]
  },
  {
   "cell_type": "markdown",
   "metadata": {},
   "source": [
    "#### Зададим начальные параметры"
   ]
  },
  {
   "cell_type": "code",
   "execution_count": 141,
   "metadata": {},
   "outputs": [],
   "source": [
    "def amount_interval(n):\n",
    "    if n <= 100:\n",
    "        return int(math.sqrt(n))\n",
    "    else:\n",
    "        return 3 * int(math.log(n))"
   ]
  },
  {
   "cell_type": "code",
   "execution_count": 146,
   "metadata": {},
   "outputs": [
    {
     "name": "stdout",
     "output_type": "stream",
     "text": [
      "K =  10\n",
      "start_number =  56490679  n =  100  k =  63036001  m =  2147483647\n"
     ]
    }
   ],
   "source": [
    "n = 100\n",
    "k = 63036001\n",
    "m = 2 ** 31 - 1\n",
    "start_number = random.randint(10000000, 99999999)\n",
    "K = amount_interval(n)\n",
    "print('K = ', K)\n",
    "\n",
    "z1 = mid_square_method(start_number, n)\n",
    "z2 = mid_square_method(start_number, n**2)\n",
    "print('start_number = ',start_number,' n = ', n,' k = ', k, ' m = ',m)\n",
    "z3 = multiplicative_congruential_method(start_number, n, k, m)\n",
    "z4 = multiplicative_congruential_method(start_number, n**2, k, m)"
   ]
  },
  {
   "cell_type": "markdown",
   "metadata": {},
   "source": [
    "#### Построим гистограммы "
   ]
  },
  {
   "cell_type": "code",
   "execution_count": 147,
   "metadata": {},
   "outputs": [],
   "source": [
    "def hist_func(z1, z2, n):\n",
    "    p1, k1 = equability_testing(z1, n, K)\n",
    "    p2, k2 = equability_testing(z2, n**2, K)\n",
    "    plt.plot(k1, p1, drawstyle='steps-pre', linewidth = 3, color = 'r')\n",
    "    plt.plot(k2, p2, drawstyle='steps-pre', linewidth = 3, color = 'b')\n",
    "    plt.plot(k1, [1 / len(k1) for i in range(len(k1))], linestyle='--', color='g')\n",
    "    #plt.title(label=f'Тестирвание равномерности датчика \\nполученного методом середины квадрата', fontsize=15)\n",
    "    plt.show()"
   ]
  },
  {
   "cell_type": "markdown",
   "metadata": {},
   "source": [
    "#### Тестирвание равномерности датчика полученного методом середины квадрата"
   ]
  },
  {
   "cell_type": "code",
   "execution_count": 148,
   "metadata": {},
   "outputs": [
    {
     "data": {
      "image/png": "[encoded data removed]",
      "text/plain": [
       "<Figure size 432x288 with 1 Axes>"
      ]
     },
     "metadata": {
      "needs_background": "light"
     },
     "output_type": "display_data"
    }
   ],
   "source": [
    "hist_func(z1, z2, n)"
   ]
  },
  {
   "cell_type": "markdown",
   "metadata": {},
   "source": [
    "#### Тестирвание равномерности датчика полученного мультипликативным конгруэтным методом"
   ]
  },
  {
   "cell_type": "code",
   "execution_count": 151,
   "metadata": {},
   "outputs": [
    {
     "data": {
      "image/png": "[encoded data removed]",
      "text/plain": [
       "<Figure size 432x288 with 1 Axes>"
      ]
     },
     "metadata": {
      "needs_background": "light"
     },
     "output_type": "display_data"
    }
   ],
   "source": [
    "hist_func(z3, z4, n)"
   ]
  },
  {
   "cell_type": "markdown",
   "metadata": {},
   "source": [
    "Выше была протестирована равномерность двух датчиков БСВ. Для каждого из них была постороена гистограмма для n и n ** 2 значений. Графики наглядно подтвердили, что частоты попадания в определенный интервал из K интервалов сходятся к значению 1 / K при увеличении n."
   ]
  },
  {
   "cell_type": "markdown",
   "metadata": {},
   "source": [
    "Проверив сходимость мат. ожидания и дисперсии к эталонным значениям, видим аналогичные закономерности:"
   ]
  },
  {
   "cell_type": "code",
   "execution_count": 186,
   "metadata": {},
   "outputs": [],
   "source": [
    "def find_M_D(z, n):\n",
    "    \n",
    "    M = np.sum(z) / n\n",
    "    D = 0\n",
    "    for i in range(n-1):\n",
    "        D += z[i] ** 2 - M ** 2\n",
    "    D /= n\n",
    "    \n",
    "    return M, D"
   ]
  },
  {
   "cell_type": "code",
   "execution_count": 187,
   "metadata": {},
   "outputs": [
    {
     "name": "stdout",
     "output_type": "stream",
     "text": [
      "Для датчика полученного методом середины квадрата\n",
      "n = 100\n",
      "M = 0.487074264, D = 0.08045422414272521\n",
      "n = 10000\n",
      "M = 0.500038090115, D = 0.08277183726186536\n"
     ]
    }
   ],
   "source": [
    "M1, D1 = find_M_D(z1, n)\n",
    "M2, D2 = find_M_D(z2, n ** 2)\n",
    "print('Для датчика полученного методом середины квадрата')\n",
    "print(f'n = {n}\\nM = {M1}, D = {D1}')\n",
    "print(f'n = {n ** 2}\\nM = {M2}, D = {D2}')"
   ]
  },
  {
   "cell_type": "code",
   "execution_count": 188,
   "metadata": {},
   "outputs": [
    {
     "name": "stdout",
     "output_type": "stream",
     "text": [
      "Для датчика полученного мультипликативным конгруэтным методом\n",
      "n = 100\n",
      "M = 0.4983334690697182, D = 0.08857488538632437\n",
      "n = 10000\n",
      "M = 0.4952224470466479, D = 0.08286547075092088\n"
     ]
    }
   ],
   "source": [
    "M3, D3 = find_M_D(z3, n)\n",
    "M4, D4 = find_M_D(z4, n ** 2)\n",
    "print('Для датчика полученного мультипликативным конгруэтным методом')\n",
    "print(f'n = {n}\\nM = {M3}, D = {D3}')\n",
    "print(f'n = {n ** 2}\\nM = {M4}, D = {D4}')"
   ]
  },
  {
   "cell_type": "markdown",
   "metadata": {},
   "source": [
    "##### Вывод: чем больше значчение n, тем ближе мат.ожидание и дисперсия к эталонным значениям"
   ]
  },
  {
   "cell_type": "markdown",
   "metadata": {},
   "source": [
    "## Тестирование независимости \n"
   ]
  },
  {
   "cell_type": "markdown",
   "metadata": {},
   "source": [
    "#### Функци для определения корреляции между подпоследовательностями"
   ]
  },
  {
   "cell_type": "code",
   "execution_count": 203,
   "metadata": {},
   "outputs": [],
   "source": [
    "def correl(z, s, n):\n",
    "    x, y = z[ :n-s], z[s: ]\n",
    "    \n",
    "    M_x, D_x = find_M_D(x, n - s)\n",
    "    M_y, D_y = find_M_D(y, n - s)\n",
    "    M_xy = 0\n",
    "    for i in range(n - s):\n",
    "        M_xy += x[i] * y[i]\n",
    "    M_xy /= (n - s)\n",
    "    \n",
    "    R = M_xy - (M_x * M_y)\n",
    "    R /= ((D_x * D_y) ** 0.5)\n",
    "    \n",
    "    return R"
   ]
  },
  {
   "cell_type": "markdown",
   "metadata": {},
   "source": [
    "#### Зададим s "
   ]
  },
  {
   "cell_type": "code",
   "execution_count": 195,
   "metadata": {},
   "outputs": [],
   "source": [
    "s = 20"
   ]
  },
  {
   "cell_type": "code",
   "execution_count": 205,
   "metadata": {},
   "outputs": [
    {
     "name": "stdout",
     "output_type": "stream",
     "text": [
      "Для датчика полученного методом середины квадрата\n",
      "n = 100\n",
      "R = 0.09120657464548287\n",
      "n = 10000\n",
      "R = -0.004254911527623838\n"
     ]
    }
   ],
   "source": [
    "c1 = correl(z1, s, n-1)\n",
    "c2 = correl(z2, s, n ** 2-1)\n",
    "print('Для датчика полученного методом середины квадрата')\n",
    "print(f'n = {n}\\nR = {c1}')\n",
    "print(f'n = {n ** 2}\\nR = {c2}')"
   ]
  },
  {
   "cell_type": "code",
   "execution_count": 206,
   "metadata": {},
   "outputs": [
    {
     "name": "stdout",
     "output_type": "stream",
     "text": [
      "Для датчика полученного мультипликативным конгруэтным методом\n",
      "n = 100\n",
      "R = -0.257017917321069\n",
      "n = 10000\n",
      "R = 0.008134280444524938\n"
     ]
    }
   ],
   "source": [
    "c3 = correl(z3, s, n-1)\n",
    "c4 = correl(z4, s, n ** 2-1)\n",
    "print('Для датчика полученного мультипликативным конгруэтным методом')\n",
    "print(f'n = {n}\\nR = {c3}')\n",
    "print(f'n = {n ** 2}\\nR = {c4}')"
   ]
  },
  {
   "cell_type": "markdown",
   "metadata": {},
   "source": [
    "Таким образом можем видеть, что смоделированные датчики удовлетворяют требованию независимости, т.к. при увеличении n оценка коэффициента корреляции стремится к нулю."
   ]
  }
 ],
 "metadata": {
  "kernelspec": {
   "display_name": "Python 3",
   "language": "python",
   "name": "python3"
  },
  "language_info": {
   "codemirror_mode": {
    "name": "ipython",
    "version": 3
   },
   "file_extension": ".py",
   "mimetype": "text/x-python",
   "name": "python",
   "nbconvert_exporter": "python",
   "pygments_lexer": "ipython3",
   "version": "3.7.4"
  }
 },
 "nbformat": 4,
 "nbformat_minor": 2
}
