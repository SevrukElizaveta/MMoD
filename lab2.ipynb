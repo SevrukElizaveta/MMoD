{
 "cells": [
  {
   "cell_type": "markdown",
   "metadata": {},
   "source": [
    "# Лабораторная работа №2 \n",
    "Севрук Елизавета, гр.853504"
   ]
  },
  {
   "cell_type": "code",
   "execution_count": 4,
   "metadata": {},
   "outputs": [],
   "source": [
    "import random\n",
    "N = 10**6"
   ]
  },
  {
   "cell_type": "markdown",
   "metadata": {},
   "source": [
    "#### Задание 1"
   ]
  },
  {
   "cell_type": "code",
   "execution_count": 32,
   "metadata": {},
   "outputs": [],
   "source": [
    "def task1(p):\n",
    "    count_true = 0\n",
    "    for i in range(N):\n",
    "        x = random.random()\n",
    "        if x <= p:\n",
    "            count_true += 1 \n",
    "            True\n",
    "        else: False\n",
    "    print('Полученная вероятность:', count_true / N)\n",
    "    print('Теоритическая вероятность:', p)"
   ]
  },
  {
   "cell_type": "code",
   "execution_count": 33,
   "metadata": {},
   "outputs": [
    {
     "name": "stdout",
     "output_type": "stream",
     "text": [
      "Полученная вероятность: 0.600642\n",
      "Теоритическая вероятность: 0.6\n"
     ]
    }
   ],
   "source": [
    "task1(0.6)"
   ]
  },
  {
   "cell_type": "markdown",
   "metadata": {},
   "source": [
    "#### Задание 2"
   ]
  },
  {
   "cell_type": "code",
   "execution_count": 108,
   "metadata": {},
   "outputs": [],
   "source": [
    "def task2(N, k):\n",
    "    count_true = 0\n",
    "    p, x = [], []\n",
    "    for _ in range(N):\n",
    "        x.append(random.random())\n",
    "    for i in range(len(k)):\n",
    "        for j in x:\n",
    "            if j <= k[i]:\n",
    "                count_true += 1\n",
    "        p.append(count_true / N)\n",
    "        count_true = 0\n",
    "    \n",
    "    for i in range(len(k)):\n",
    "        print('Полученная вероятность:', p[i], \" -Теоритическая вероятность:\", k[i])  "
   ]
  },
  {
   "cell_type": "code",
   "execution_count": 109,
   "metadata": {},
   "outputs": [
    {
     "name": "stdout",
     "output_type": "stream",
     "text": [
      "Полученная вероятность: 0.050095  -Теоритическая вероятность: 0.05\n",
      "Полученная вероятность: 0.149729  -Теоритическая вероятность: 0.15\n",
      "Полученная вероятность: 0.24969  -Теоритическая вероятность: 0.25\n",
      "Полученная вероятность: 0.349936  -Теоритическая вероятность: 0.35\n",
      "Полученная вероятность: 0.449391  -Теоритическая вероятность: 0.45\n",
      "Полученная вероятность: 0.549871  -Теоритическая вероятность: 0.55\n",
      "Полученная вероятность: 0.650583  -Теоритическая вероятность: 0.65\n",
      "Полученная вероятность: 0.750653  -Теоритическая вероятность: 0.75\n",
      "Полученная вероятность: 0.850576  -Теоритическая вероятность: 0.85\n",
      "Полученная вероятность: 0.950192  -Теоритическая вероятность: 0.95\n"
     ]
    }
   ],
   "source": [
    "k = [0.05, 0.15, 0.25, 0.35, 0.45, 0.55, 0.65, 0.75, 0.85, 0.95]\n",
    "task2(N, k)"
   ]
  },
  {
   "cell_type": "markdown",
   "metadata": {},
   "source": [
    "#### Задание 3\n"
   ]
  },
  {
   "cell_type": "markdown",
   "metadata": {},
   "source": [
    "$P(\\overline{А})  = 1 − P(A)$ \n",
    "\n",
    "$P(B \\mid  \\overline{A}) =1 - P(B \\mid A)$\n"
   ]
  },
  {
   "cell_type": "code",
   "execution_count": 113,
   "metadata": {},
   "outputs": [],
   "source": [
    "def task3(p_A, p_BA, N):\n",
    "    p_NOT_A = 1 - p_A \n",
    "    p_B_NOT_A = 1 - p_BA\n",
    "    p_AB = p_A * p_BA\n",
    "    p_NOT_AB = (1 - p_BA) * p_A\n",
    "    p_A_NOT_B = p_NOT_A * (1 - p_BA)\n",
    "    p_NOT_A_NOT_B = p_BA * p_NOT_A\n",
    "#   p_B = p_A * p_BA + p_NOT_A* (1 - p_BA)\n",
    "\n",
    "    \n",
    "    count1, count2, count3, count4 = 0, 0, 0, 0 \n",
    "    x = []\n",
    "    for _ in range(N):\n",
    "        x.append(random.random())\n",
    "    for i in range(N - 1):\n",
    "        if x[i] <= p_A:\n",
    "            if x[i + 1] <= p_BA: count1 += 1\n",
    "            else: count2 += 1\n",
    "        else:\n",
    "            if x[i + 1] <=  p_B_NOT_A: count3 += 1\n",
    "            else: count4 += 1\n",
    "               \n",
    "    print('Полученная вероятность AB:', count1 / N, \" -Теоритическая вероятность:\", p_AB)\n",
    "    print('Полученная вероятность A_notB:', count2 / N, \" -Теоритическая вероятность:\", p_A_NOT_B)\n",
    "    print('Полученная вероятность notAB:', count3 / N, \" -Теоритическая вероятность:\", p_NOT_AB)\n",
    "    print('Полученная вероятность notAnotB:', count4 / N, \" -Теоритическая вероятность:\", p_NOT_A_NOT_B)    "
   ]
  },
  {
   "cell_type": "code",
   "execution_count": 114,
   "metadata": {},
   "outputs": [
    {
     "name": "stdout",
     "output_type": "stream",
     "text": [
      "Полученная вероятность AB: 0.029582  -Теоритическая вероятность: 0.03\n",
      "Полученная вероятность A_notB: 0.06955  -Теоритическая вероятность: 0.63\n",
      "Полученная вероятность notAB: 0.630219  -Теоритическая вероятность: 0.06999999999999999\n",
      "Полученная вероятность notAnotB: 0.270648  -Теоритическая вероятность: 0.27\n"
     ]
    }
   ],
   "source": [
    "task3(0.1, 0.3, N)"
   ]
  },
  {
   "cell_type": "markdown",
   "metadata": {},
   "source": [
    "#### Задание 4"
   ]
  },
  {
   "cell_type": "code",
   "execution_count": 105,
   "metadata": {},
   "outputs": [],
   "source": [
    "def task4(N, k):\n",
    "    p, x = [0 for _ in range(len(k))], []\n",
    "    for _ in range(N):\n",
    "        x.append(random.random())\n",
    "    for i in range(len(k)):\n",
    "        for j in x:\n",
    "            if sum(k[:i]) <= j < sum(k[:i+1]):\n",
    "                p[i] += 1\n",
    "    p = [i / N for i in p]\n",
    "    for i in range(len(k)):\n",
    "        print('Полученная вероятность:', p[i], \" -Теоритическая вероятность:\", k[i]) "
   ]
  },
  {
   "cell_type": "code",
   "execution_count": 188,
   "metadata": {},
   "outputs": [
    {
     "name": "stdout",
     "output_type": "stream",
     "text": [
      "Полученная вероятность: 0.049718  -Теоритическая вероятность: 0.05\n",
      "Полученная вероятность: 0.200841  -Теоритическая вероятность: 0.2\n",
      "Полученная вероятность: 0.300268  -Теоритическая вероятность: 0.3\n",
      "Полученная вероятность: 0.449173  -Теоритическая вероятность: 0.45\n"
     ]
    }
   ],
   "source": [
    "k = [0.05, 0.2, 0.3 , 0.45] # сумма должна быть равна 1\n",
    "task4(N, k)"
   ]
  },
  {
   "cell_type": "markdown",
   "metadata": {},
   "source": [
    "## Симулятор проведения футбольного кубка"
   ]
  },
  {
   "cell_type": "markdown",
   "metadata": {},
   "source": [
    "Пусть n - число команд(max = 64)\n",
    "name - уникальное имя команды. "
   ]
  },
  {
   "cell_type": "code",
   "execution_count": 166,
   "metadata": {},
   "outputs": [
    {
     "name": "stdout",
     "output_type": "stream",
     "text": [
      "Кол-во команд =  16\n",
      "tours = [0.0625, 0.125, 0.25, 0.5, 'Final']\n"
     ]
    }
   ],
   "source": [
    "k = random.randint(1, 6)\n",
    "n = 2**k\n",
    "tours = []\n",
    "tours.append(1/n)\n",
    "for i in range(1, k):\n",
    "    tours.append(tours[i-1] * 2) \n",
    "tours.append(\"Final\")\n",
    "print(\"Кол-во команд = \", n)\n",
    "print(\"tours =\", tours)"
   ]
  },
  {
   "cell_type": "code",
   "execution_count": 171,
   "metadata": {},
   "outputs": [
    {
     "name": "stdout",
     "output_type": "stream",
     "text": [
      "{'name1': 66, 'name2': 9, 'name3': 85, 'name4': 87, 'name5': 61, 'name6': 39, 'name7': 15, 'name8': 72, 'name9': 5, 'name10': 94, 'name11': 90, 'name12': 34, 'name13': 45, 'name14': 88, 'name15': 14, 'name16': 26}\n"
     ]
    }
   ],
   "source": [
    "d = {a: a ** 2 for a in range(7)}\n",
    "my_list = dict()\n",
    "for i in range(1, n+1):\n",
    "    my_list[\"name\"+str(i)] = random.randint(1, 100)\n",
    "print(my_list) "
   ]
  }
 ],
 "metadata": {
  "kernelspec": {
   "display_name": "Python 3",
   "language": "python",
   "name": "python3"
  },
  "language_info": {
   "codemirror_mode": {
    "name": "ipython",
    "version": 3
   },
   "file_extension": ".py",
   "mimetype": "text/x-python",
   "name": "python",
   "nbconvert_exporter": "python",
   "pygments_lexer": "ipython3",
   "version": "3.7.4"
  }
 },
 "nbformat": 4,
 "nbformat_minor": 2
}
